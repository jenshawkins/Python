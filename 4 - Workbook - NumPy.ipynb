{
 "cells": [
  {
   "cell_type": "markdown",
   "metadata": {},
   "source": [
    "#### COMPANION WORKBOOK\n",
    "\n",
    "# NumPy\n",
    "\n",
    "To make the most out this program, we strongly recommend you to:\n",
    "1. First practice writing and implementing all of the code from Coding Section of the online lesson.\n",
    "2. Then, freely experiment with and explore any interesting or confusing concepts. Simply insert new code cells and then use the help of Google and official documentation.\n",
    "3. Finally, tackle all of the exercises at the end. They will help you tie everything together and **learn in context.**\n",
    "\n",
    "#### <span style=\"color:#555\">LESSON CODE SANDBOX</span>\n",
    "\n",
    "Use this space to practice writing and implementing all of the code from Coding Section of the online lesson. Insert new code cells as needed, and feel free to write notes to yourself in Markdown."
   ]
  },
  {
   "cell_type": "markdown",
   "metadata": {},
   "source": [
    "First, let's import the actual NumPy library."
   ]
  },
  {
   "cell_type": "code",
   "execution_count": 2,
   "metadata": {},
   "outputs": [],
   "source": [
    "import numpy as np"
   ]
  },
  {
   "cell_type": "markdown",
   "metadata": {},
   "source": [
    "## I. NumPy Arrays are homogeneous."
   ]
  },
  {
   "cell_type": "code",
   "execution_count": 4,
   "metadata": {},
   "outputs": [
    {
     "name": "stdout",
     "output_type": "stream",
     "text": [
      "[0 1 2 3]\n",
      "<class 'numpy.ndarray'>\n"
     ]
    }
   ],
   "source": [
    "# Array of ints\n",
    "array_a = np.array([0, 1, 2, 3])\n",
    "\n",
    "print ( array_a )\n",
    "print ( type(array_a) )"
   ]
  },
  {
   "cell_type": "code",
   "execution_count": 6,
   "metadata": {},
   "outputs": [
    {
     "name": "stdout",
     "output_type": "stream",
     "text": [
      "int32\n"
     ]
    }
   ],
   "source": [
    "# Print data type of contaied elements\n",
    "print( array_a.dtype )"
   ]
  },
  {
   "cell_type": "code",
   "execution_count": 12,
   "metadata": {},
   "outputs": [
    {
     "name": "stdout",
     "output_type": "stream",
     "text": [
      "['four' '5' '6']\n"
     ]
    }
   ],
   "source": [
    "# Mixed array with 1 string and 2 integers\n",
    "array_b = np.array(['four', 5, 6])\n",
    "\n",
    "# Print elements in array_b\n",
    "print( array_b )"
   ]
  },
  {
   "cell_type": "code",
   "execution_count": 18,
   "metadata": {},
   "outputs": [
    {
     "name": "stdout",
     "output_type": "stream",
     "text": [
      "(4,)\n",
      "(3,)\n"
     ]
    }
   ],
   "source": [
    "print( array_a.shape )\n",
    "print( array_b.shape )"
   ]
  },
  {
   "cell_type": "code",
   "execution_count": 20,
   "metadata": {},
   "outputs": [
    {
     "name": "stdout",
     "output_type": "stream",
     "text": [
      "0\n",
      "3\n"
     ]
    }
   ],
   "source": [
    "# First element of array_a\n",
    "print( array_a[0] )\n",
    "\n",
    "# Last element of array_a\n",
    "print( array_a[-1] )"
   ]
  },
  {
   "cell_type": "code",
   "execution_count": 22,
   "metadata": {},
   "outputs": [
    {
     "name": "stdout",
     "output_type": "stream",
     "text": [
      "[2 3]\n"
     ]
    }
   ],
   "source": [
    "# From second element of array_a up to the 4th\n",
    "print( array_a[2:4] )"
   ]
  },
  {
   "cell_type": "code",
   "execution_count": 26,
   "metadata": {},
   "outputs": [
    {
     "name": "stdout",
     "output_type": "stream",
     "text": [
      "[1.2 8.8 4.  nan 6.1]\n"
     ]
    }
   ],
   "source": [
    "# Array with  missing values\n",
    "array_with_missing_value = np.array([1.2, 8.8, 4.0, np.nan, 6.1])\n",
    "\n",
    "# Print array\n",
    "print( array_with_missing_value )"
   ]
  },
  {
   "cell_type": "code",
   "execution_count": 28,
   "metadata": {},
   "outputs": [
    {
     "name": "stdout",
     "output_type": "stream",
     "text": [
      "float64\n"
     ]
    }
   ],
   "source": [
    "# Print array's dtype\n",
    "print( array_with_missing_value.dtype )"
   ]
  },
  {
   "cell_type": "markdown",
   "metadata": {},
   "source": [
    "## II. NumPy Arrays are multidimensional."
   ]
  },
  {
   "cell_type": "code",
   "execution_count": 36,
   "metadata": {},
   "outputs": [
    {
     "name": "stdout",
     "output_type": "stream",
     "text": [
      "[[1 2 3]\n",
      " [4 5 6]]\n",
      "(2, 3)\n",
      "[[1 2]\n",
      " [3 4]\n",
      " [5 6]]\n",
      "[[1 2 3 4 5 6]]\n"
     ]
    }
   ],
   "source": [
    "array_c = np.array([[1, 2, 3], [4, 5, 6]])\n",
    "print( array_c )\n",
    "print( array_c.shape )\n",
    "# Reshape to 3x3\n",
    "print( array_c.reshape(3, 2) )\n",
    "# Reshape to 1x6\n",
    "print( array_c.reshape(1,6) )"
   ]
  },
  {
   "cell_type": "code",
   "execution_count": 38,
   "metadata": {},
   "outputs": [
    {
     "name": "stdout",
     "output_type": "stream",
     "text": [
      "2\n"
     ]
    }
   ],
   "source": [
    "# Print number axes\n",
    "print( len(array_c.reshape(1,6).shape) )"
   ]
  },
  {
   "cell_type": "code",
   "execution_count": 42,
   "metadata": {},
   "outputs": [
    {
     "name": "stdout",
     "output_type": "stream",
     "text": [
      "[1 2 3 4 5 6]\n",
      "[1 2 3 4 5 6]\n"
     ]
    }
   ],
   "source": [
    "# Reshape and reduce axes\n",
    "print( array_c.reshape(6,) )\n",
    "\n",
    "# Flatten (reduce to 1 axis)\n",
    "print( array_c.flatten() )"
   ]
  },
  {
   "cell_type": "code",
   "execution_count": 44,
   "metadata": {},
   "outputs": [
    {
     "name": "stdout",
     "output_type": "stream",
     "text": [
      "1\n",
      "1\n"
     ]
    }
   ],
   "source": [
    "# Print number of axes\n",
    "print( len(array_c.reshape(6,).shape) )\n",
    "print( len(array_c.flatten().shape) )"
   ]
  },
  {
   "cell_type": "code",
   "execution_count": 48,
   "metadata": {},
   "outputs": [
    {
     "name": "stdout",
     "output_type": "stream",
     "text": [
      "[[1 4]\n",
      " [2 5]\n",
      " [3 6]]\n"
     ]
    }
   ],
   "source": [
    "# Transpose\n",
    "print( array_c.transpose() )"
   ]
  },
  {
   "cell_type": "code",
   "execution_count": 52,
   "metadata": {},
   "outputs": [
    {
     "name": "stdout",
     "output_type": "stream",
     "text": [
      "[[1 2 3]\n",
      " [4 5 6]\n",
      " [7 8 9]]\n"
     ]
    }
   ],
   "source": [
    "# create a 3x3 array\n",
    "array_d = np.array(range(1,10)).reshape(3,3)\n",
    "print(array_d)"
   ]
  },
  {
   "cell_type": "code",
   "execution_count": 54,
   "metadata": {},
   "outputs": [
    {
     "name": "stdout",
     "output_type": "stream",
     "text": [
      "[1 2 3]\n"
     ]
    }
   ],
   "source": [
    "# Select first row\n",
    "print( array_d[0, :] )"
   ]
  },
  {
   "cell_type": "code",
   "execution_count": 56,
   "metadata": {},
   "outputs": [
    {
     "name": "stdout",
     "output_type": "stream",
     "text": [
      "[4 5 6]\n"
     ]
    }
   ],
   "source": [
    "# Select second row\n",
    "print( array_d[1, :])"
   ]
  },
  {
   "cell_type": "code",
   "execution_count": 58,
   "metadata": {},
   "outputs": [
    {
     "name": "stdout",
     "output_type": "stream",
     "text": [
      "[3 6 9]\n"
     ]
    }
   ],
   "source": [
    "# Select third column\n",
    "print( array_d[:, 2])"
   ]
  },
  {
   "cell_type": "code",
   "execution_count": 60,
   "metadata": {},
   "outputs": [
    {
     "name": "stdout",
     "output_type": "stream",
     "text": [
      "[2 5 8]\n"
     ]
    }
   ],
   "source": [
    "# Select second column\n",
    "print( array_d[:, 1])"
   ]
  },
  {
   "cell_type": "code",
   "execution_count": 62,
   "metadata": {},
   "outputs": [
    {
     "name": "stdout",
     "output_type": "stream",
     "text": [
      "[[5 6]\n",
      " [8 9]]\n"
     ]
    }
   ],
   "source": [
    "# Select after second row and second column\n",
    "print( array_d[1:, 1:] )"
   ]
  },
  {
   "cell_type": "markdown",
   "metadata": {},
   "source": [
    "## III. NumPy math is elementwise."
   ]
  },
  {
   "cell_type": "code",
   "execution_count": 74,
   "metadata": {},
   "outputs": [
    {
     "name": "stdout",
     "output_type": "stream",
     "text": [
      "[[1. 2.]\n",
      " [3. 4.]]\n",
      "[[ 2.  5.]\n",
      " [10.  3.]]\n"
     ]
    }
   ],
   "source": [
    "# 2x2 matrix of floats\n",
    "x = np.array([[1.0, 2.0], [3.0, 4.0]])\n",
    "print( x )\n",
    "\n",
    "# 2x2 matrix of floats\n",
    "y = np.array([[2.0, 5.0], [10.0, 3.0]])\n",
    "print( y )"
   ]
  },
  {
   "cell_type": "code",
   "execution_count": 76,
   "metadata": {},
   "outputs": [
    {
     "name": "stdout",
     "output_type": "stream",
     "text": [
      "[[ 3.  7.]\n",
      " [13.  7.]]\n"
     ]
    }
   ],
   "source": [
    "# Math between two arrays (Addition)\n",
    "print ( x + y)"
   ]
  },
  {
   "cell_type": "code",
   "execution_count": 80,
   "metadata": {},
   "outputs": [
    {
     "name": "stdout",
     "output_type": "stream",
     "text": [
      "[[-1.  0.]\n",
      " [ 1.  2.]] \n",
      "\n",
      "[[2. 4.]\n",
      " [6. 8.]] \n",
      "\n",
      "[[0.5 1. ]\n",
      " [1.5 2. ]] \n",
      "\n",
      "[[1. 0.]\n",
      " [1. 0.]]\n"
     ]
    }
   ],
   "source": [
    "# Subtraction\n",
    "print( x - 2, '\\n')\n",
    "\n",
    "# Multiplication\n",
    "print( x * 2, '\\n')\n",
    "    \n",
    "# Division\n",
    "print( x / 2, '\\n')\n",
    "\n",
    "# Modulo\n",
    "print( x % 2 )"
   ]
  },
  {
   "cell_type": "code",
   "execution_count": 82,
   "metadata": {},
   "outputs": [
    {
     "name": "stdout",
     "output_type": "stream",
     "text": [
      "[[ 1.  4.]\n",
      " [ 9. 16.]] \n",
      "\n",
      "[[ 1.  8.]\n",
      " [27. 64.]] \n",
      "\n",
      "[[0.         0.69314718]\n",
      " [1.09861229 1.38629436]] \n",
      "\n",
      "[[1.         1.41421356]\n",
      " [1.73205081 2.        ]]\n"
     ]
    }
   ],
   "source": [
    "# Squared\n",
    "print( np.power(x, 2), '\\n' )\n",
    "\n",
    "# Cubed\n",
    "print( np.power(x, 3), '\\n' )\n",
    "\n",
    "# Natural Log\n",
    "print( np.log(x), '\\n' )\n",
    "\n",
    "# Square Root\n",
    "print( np.sqrt(x) )"
   ]
  },
  {
   "cell_type": "code",
   "execution_count": 88,
   "metadata": {},
   "outputs": [
    {
     "name": "stdout",
     "output_type": "stream",
     "text": [
      "10.0\n"
     ]
    }
   ],
   "source": [
    "# Sum of all elements\n",
    "print( np.sum(x) )"
   ]
  },
  {
   "cell_type": "code",
   "execution_count": 95,
   "metadata": {},
   "outputs": [
    {
     "name": "stdout",
     "output_type": "stream",
     "text": [
      "1.0\n",
      "4.0\n",
      "2.5\n",
      "2.5\n"
     ]
    }
   ],
   "source": [
    "print( np.min(x) ) # Min\n",
    "print( np.max(x) ) # Max\n",
    "print( np.median(x) ) # Median\n",
    "print( np.mean(x) ) # Mean"
   ]
  },
  {
   "cell_type": "code",
   "execution_count": 97,
   "metadata": {},
   "outputs": [
    {
     "name": "stdout",
     "output_type": "stream",
     "text": [
      "[4. 6.]\n"
     ]
    }
   ],
   "source": [
    "# Sum of each column\n",
    "print( np.sum(x, axis=0) )"
   ]
  },
  {
   "cell_type": "code",
   "execution_count": 99,
   "metadata": {},
   "outputs": [
    {
     "name": "stdout",
     "output_type": "stream",
     "text": [
      "[3. 7.]\n"
     ]
    }
   ],
   "source": [
    "# Sum of each row\n",
    "print( np.sum(x, axis=1) )"
   ]
  },
  {
   "cell_type": "markdown",
   "metadata": {},
   "source": [
    "## IV. NumPy is reliably random."
   ]
  },
  {
   "cell_type": "code",
   "execution_count": null,
   "metadata": {},
   "outputs": [],
   "source": [
    "np.random."
   ]
  },
  {
   "cell_type": "code",
   "execution_count": 101,
   "metadata": {},
   "outputs": [
    {
     "name": "stdout",
     "output_type": "stream",
     "text": [
      "[6 3 7 0 5 5 6 9 8 9 7 3 6 1 0 0 5 8 0 0 4 4 5 0 5 6 4 9 3 9 0 0 9 9 0 6 3\n",
      " 9 8 1 2 7 5 9 8 0 0 0 1 6 3 6 5 7 4 6 2 6 9 2 1 5 3 1]\n"
     ]
    }
   ],
   "source": [
    "# Randomly draw 64 samples from a uniform distribution from [0, 10]\n",
    "sample = np.random.randint(low=0, high=10, size=64)\n",
    "\n",
    "print( sample )"
   ]
  },
  {
   "cell_type": "code",
   "execution_count": 103,
   "metadata": {},
   "outputs": [
    {
     "name": "stdout",
     "output_type": "stream",
     "text": [
      "[[6 3 7 0 5 5 6 9]\n",
      " [8 9 7 3 6 1 0 0]\n",
      " [5 8 0 0 4 4 5 0]\n",
      " [5 6 4 9 3 9 0 0]\n",
      " [9 9 0 6 3 9 8 1]\n",
      " [2 7 5 9 8 0 0 0]\n",
      " [1 6 3 6 5 7 4 6]\n",
      " [2 6 9 2 1 5 3 1]]\n"
     ]
    }
   ],
   "source": [
    "# Reshape to 8x8 matrix\n",
    "print( sample.reshape((8,8)) )"
   ]
  },
  {
   "cell_type": "code",
   "execution_count": 107,
   "metadata": {},
   "outputs": [
    {
     "name": "stdout",
     "output_type": "stream",
     "text": [
      "[[2 5 3 3 6 5 1 4]\n",
      " [6 8 8 1 3 6 1 5]\n",
      " [5 7 2 8 4 6 6 3]\n",
      " [2 0 8 1 6 5 8 4]\n",
      " [1 4 2 3 0 9 0 6]\n",
      " [2 1 2 3 2 2 2 0]\n",
      " [5 0 7 3 6 9 1 7]\n",
      " [2 4 6 6 4 3 1 6]]\n"
     ]
    }
   ],
   "source": [
    "# Randomly draw 8x8 samples from a uniform distribution from [0, 10)\n",
    "generated_matrix = np.random.randint(0, 10, (8,8))\n",
    "print( generated_matrix)"
   ]
  },
  {
   "cell_type": "code",
   "execution_count": 109,
   "metadata": {},
   "outputs": [
    {
     "name": "stdout",
     "output_type": "stream",
     "text": [
      "[[0 3 1 4 9 5 8 7]\n",
      " [7 8 1 3 5 5 5 1]\n",
      " [5 0 7 7 4 4 1 9]\n",
      " [7 5 5 8 1 5 8 6]\n",
      " [6 4 0 1 8 5 3 2]\n",
      " [9 6 4 1 0 1 6 0]\n",
      " [7 4 6 4 6 0 1 1]\n",
      " [3 8 8 9 3 0 2 6]]\n"
     ]
    }
   ],
   "source": [
    "# Run exact same code as above\n",
    "generated_matrix = np.random.randint(0, 10, (8,8))\n",
    "print( generated_matrix )"
   ]
  },
  {
   "cell_type": "code",
   "execution_count": 111,
   "metadata": {},
   "outputs": [
    {
     "name": "stdout",
     "output_type": "stream",
     "text": [
      "[[1 9 1 1 5 8 0 9]\n",
      " [2 3 4 6 4 7 3 6]\n",
      " [1 0 7 8 7 2 3 1]\n",
      " [4 7 0 9 7 4 3 9]\n",
      " [2 2 6 6 3 6 4 8]\n",
      " [5 6 3 4 7 5 1 4]\n",
      " [0 8 2 6 8 7 3 4]\n",
      " [5 4 9 3 5 0 2 5]]\n"
     ]
    }
   ],
   "source": [
    "# Run exact same code as above\n",
    "generated_matrix = np.random.randint(0, 10, (8,8))\n",
    "print( generated_matrix )"
   ]
  },
  {
   "cell_type": "code",
   "execution_count": 113,
   "metadata": {},
   "outputs": [
    {
     "name": "stdout",
     "output_type": "stream",
     "text": [
      "[[4 9 8 1 8 8 4 5]\n",
      " [8 3 5 1 4 6 5 7]\n",
      " [7 2 2 3 9 2 1 2]\n",
      " [1 1 0 4 4 3 0 3]\n",
      " [7 4 5 7 0 8 7 1]\n",
      " [0 2 5 6 1 0 7 2]\n",
      " [8 3 0 3 9 8 5 6]\n",
      " [0 2 7 5 2 3 9 9]]\n"
     ]
    }
   ],
   "source": [
    "# Set seed for reproducible results\n",
    "np.random.seed(321)\n",
    "\n",
    "# Randomly draw 4x4 samples from a uniform distribution from [0,10)\n",
    "generated_matrix = np.random.randint(0, 10, (8,8))\n",
    "\n",
    "print( generated_matrix )"
   ]
  },
  {
   "cell_type": "code",
   "execution_count": 115,
   "metadata": {},
   "outputs": [
    {
     "name": "stdout",
     "output_type": "stream",
     "text": [
      "[[4 9 8 1 8 8 4 5]\n",
      " [8 3 5 1 4 6 5 7]\n",
      " [7 2 2 3 9 2 1 2]\n",
      " [1 1 0 4 4 3 0 3]\n",
      " [7 4 5 7 0 8 7 1]\n",
      " [0 2 5 6 1 0 7 2]\n",
      " [8 3 0 3 9 8 5 6]\n",
      " [0 2 7 5 2 3 9 9]]\n"
     ]
    }
   ],
   "source": [
    "# Set seed for reproducible results\n",
    "np.random.seed(321)\n",
    "\n",
    "# Randomly draw 4x4 samples from a uniform distribution from [0,10)\n",
    "generated_matrix = np.random.randint(0, 10, (8,8))\n",
    "\n",
    "print( generated_matrix )"
   ]
  },
  {
   "cell_type": "code",
   "execution_count": 117,
   "metadata": {},
   "outputs": [
    {
     "name": "stdout",
     "output_type": "stream",
     "text": [
      "[4 8 7 1 7 0 8 0]\n"
     ]
    }
   ],
   "source": [
    "# Select first column of generated_Matrix\n",
    "print( generated_matrix[:, 0] )"
   ]
  },
  {
   "cell_type": "code",
   "execution_count": 121,
   "metadata": {},
   "outputs": [
    {
     "name": "stdout",
     "output_type": "stream",
     "text": [
      "[0 7 0 4 0]\n"
     ]
    }
   ],
   "source": [
    "# Set seed for reproducible results\n",
    "np.random.seed(55)\n",
    "\n",
    "# Randomly select 5 elements from first column of generated_matrix\n",
    "print( np.random.choice(generated_matrix[:,0], 5) )"
   ]
  },
  {
   "cell_type": "code",
   "execution_count": 123,
   "metadata": {},
   "outputs": [
    {
     "name": "stdout",
     "output_type": "stream",
     "text": [
      "[7 0 8 8 1]\n"
     ]
    }
   ],
   "source": [
    "# Set seed for reproducible results\n",
    "np.random.seed(55)\n",
    "\n",
    "# Randomly select 5 elements from first column of generated_matrix\n",
    "print( np.random.choice(generated_matrix[:,0], 5, replace=False) )"
   ]
  },
  {
   "cell_type": "code",
   "execution_count": null,
   "metadata": {},
   "outputs": [],
   "source": [
    "# Randomly \n"
   ]
  }
 ],
 "metadata": {
  "anaconda-cloud": {},
  "kernelspec": {
   "display_name": "Python [conda env:base] *",
   "language": "python",
   "name": "conda-base-py"
  },
  "language_info": {
   "codemirror_mode": {
    "name": "ipython",
    "version": 3
   },
   "file_extension": ".py",
   "mimetype": "text/x-python",
   "name": "python",
   "nbconvert_exporter": "python",
   "pygments_lexer": "ipython3",
   "version": "3.12.7"
  }
 },
 "nbformat": 4,
 "nbformat_minor": 4
}
