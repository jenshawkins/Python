{
 "cells": [
  {
   "cell_type": "markdown",
   "metadata": {},
   "source": [
    "#### COMPANION WORKBOOK\n",
    "\n",
    "# Python Basics\n",
    "\n",
    "To make the most out of this program, we strongly recommend you to:\n",
    "1. First practice writing and implementing all of the code from Coding Section of the online module.\n",
    "2. Then, freely experiment with and explore any interesting or confusing concepts. Simply insert new code cells and then use the help of Google and official documentation.\n",
    "3. Finally, tackle all of the exercises at the end. They will help you tie everything together and **learn in context.**\n",
    "\n",
    "#### <span style=\"color:#555\">MODULE CODE SANDBOX</span>\n",
    "\n",
    "Use this space to practice writing and implementing all of the code from Coding Section of the online module. Insert new code cells as needed, and feel free to write notes to yourself in Markdown."
   ]
  },
  {
   "cell_type": "markdown",
   "metadata": {},
   "source": [
    "## I. Python can be used for calculations."
   ]
  },
  {
   "cell_type": "code",
   "execution_count": 4,
   "metadata": {},
   "outputs": [
    {
     "data": {
      "text/plain": [
       "4"
      ]
     },
     "execution_count": 4,
     "metadata": {},
     "output_type": "execute_result"
    }
   ],
   "source": [
    "2 + 2"
   ]
  },
  {
   "cell_type": "markdown",
   "metadata": {},
   "source": [
    "print( 5>3)"
   ]
  },
  {
   "cell_type": "code",
   "execution_count": 19,
   "metadata": {},
   "outputs": [
    {
     "name": "stdout",
     "output_type": "stream",
     "text": [
      "49\n"
     ]
    }
   ],
   "source": [
    "print (7*7)"
   ]
  },
  {
   "cell_type": "markdown",
   "metadata": {},
   "source": [
    "## II. Floats are numeric objects that allow more precision."
   ]
  },
  {
   "cell_type": "code",
   "execution_count": 16,
   "metadata": {},
   "outputs": [
    {
     "name": "stdout",
     "output_type": "stream",
     "text": [
      "<class 'int'>\n"
     ]
    }
   ],
   "source": [
    "print (type (5))"
   ]
  },
  {
   "cell_type": "code",
   "execution_count": 21,
   "metadata": {},
   "outputs": [
    {
     "name": "stdout",
     "output_type": "stream",
     "text": [
      "<class 'float'>\n"
     ]
    }
   ],
   "source": [
    "print (type(5.3))"
   ]
  },
  {
   "cell_type": "code",
   "execution_count": 23,
   "metadata": {},
   "outputs": [
    {
     "name": "stdout",
     "output_type": "stream",
     "text": [
      "777\n"
     ]
    }
   ],
   "source": [
    "print (777)"
   ]
  },
  {
   "cell_type": "markdown",
   "metadata": {},
   "source": [
    "## III. Strings are text objects enclosed by quotes."
   ]
  },
  {
   "cell_type": "code",
   "execution_count": 25,
   "metadata": {},
   "outputs": [
    {
     "name": "stdout",
     "output_type": "stream",
     "text": [
      "This is a string.\n"
     ]
    }
   ],
   "source": [
    "print( 'This is a string.')"
   ]
  },
  {
   "cell_type": "code",
   "execution_count": 27,
   "metadata": {},
   "outputs": [
    {
     "name": "stdout",
     "output_type": "stream",
     "text": [
      "<class 'str'>\n"
     ]
    }
   ],
   "source": [
    "print ( type('This is a string.'))"
   ]
  },
  {
   "cell_type": "code",
   "execution_count": 29,
   "metadata": {},
   "outputs": [
    {
     "name": "stdout",
     "output_type": "stream",
     "text": [
      "This is a string enclosed by single quotes.\n"
     ]
    }
   ],
   "source": [
    "print ( 'This is a string enclosed by single quotes.')"
   ]
  },
  {
   "cell_type": "markdown",
   "metadata": {},
   "source": [
    "## IV. Variables store values and keep your code organized."
   ]
  },
  {
   "cell_type": "code",
   "execution_count": 31,
   "metadata": {},
   "outputs": [
    {
     "name": "stdout",
     "output_type": "stream",
     "text": [
      "5\n",
      "3\n",
      "hello world\n",
      "15\n"
     ]
    }
   ],
   "source": [
    "# set variables\n",
    "a = 5\n",
    "b = 3\n",
    "c = 'hello world'\n",
    "\n",
    "print ( a )\n",
    "print ( b )\n",
    "print ( c )\n",
    "print ( a * b)"
   ]
  },
  {
   "cell_type": "code",
   "execution_count": 49,
   "metadata": {},
   "outputs": [],
   "source": [
    "# set variables\n",
    "principal = 1000.0\n",
    "yearly_interest_rate = 0.03\n",
    "n_years = 5\n",
    "\n",
    "# calculate total investment return\n",
    "total_return = principal * (1 + yearly_interest_rate)**n_years - principal"
   ]
  },
  {
   "cell_type": "code",
   "execution_count": 55,
   "metadata": {},
   "outputs": [
    {
     "name": "stdout",
     "output_type": "stream",
     "text": [
      "159.27407430000017\n",
      "Pct Return: 15.93%\n"
     ]
    }
   ],
   "source": [
    "print(total_return)\n",
    "print( 'Pct Return: {}%'.format(round(total_return/principal * 100,2)) )"
   ]
  },
  {
   "cell_type": "code",
   "execution_count": null,
   "metadata": {},
   "outputs": [],
   "source": []
  },
  {
   "cell_type": "raw",
   "metadata": {},
   "source": []
  },
  {
   "cell_type": "markdown",
   "metadata": {},
   "source": [
    "#### <span style=\"color:#555\">EXERCISES</span>\n",
    "\n",
    "Complete each of the following exercises.\n",
    "\n",
    "\n",
    "## <span style=\"color:RoyalBlue\"> Exercise 1.1 - Python as a Calculator</span>\n",
    "\n",
    "#### A.) A right triangle has a hypotenuse of length 17, and one of its legs has length 8. Calculate the length of the other leg using one line of Python code.\n",
    "* Tip: <a href=\"https://en.wikipedia.org/wiki/Pythagorean_theorem\" target=\"_blank\">Pythagorean Theorem</a>"
   ]
  },
  {
   "cell_type": "code",
   "execution_count": 70,
   "metadata": {
    "scrolled": true
   },
   "outputs": [
    {
     "name": "stdout",
     "output_type": "stream",
     "text": [
      "The value of b is: 15.0\n"
     ]
    }
   ],
   "source": [
    "# set variables\n",
    "\n",
    "import math\n",
    "\n",
    "# Set variables\n",
    "a = 8\n",
    "c = 17\n",
    "\n",
    "# Calculate b\n",
    "b = math.sqrt(c**2 - a**2)\n",
    "\n",
    "print(f\"The value of b is: {b}\")\n",
    "\n"
   ]
  },
  {
   "cell_type": "code",
   "execution_count": null,
   "metadata": {},
   "outputs": [],
   "source": []
  },
  {
   "cell_type": "markdown",
   "metadata": {},
   "source": [
    "#### B.) You have 5 colleagues going through this Secret Agent Bootcamp with you. If you are definitely the top student, how many total possible ways can all 6 students be ranked?\n",
    "* Hint: You have already taken rank 1. How many people are eligible for rank 2? Once rank 2 has been determined, how many eligible people remain for rank 3? Etc..."
   ]
  },
  {
   "cell_type": "code",
   "execution_count": 72,
   "metadata": {},
   "outputs": [
    {
     "name": "stdout",
     "output_type": "stream",
     "text": [
      "The total number of ways to rank the students is: 120\n"
     ]
    }
   ],
   "source": [
    "import math\n",
    "\n",
    "# Number of colleagues to rank\n",
    "n = 5\n",
    "\n",
    "# Calculate the number of permutations\n",
    "total_ways = math.factorial(n)\n",
    "\n",
    "print(f\"The total number of ways to rank the students is: {total_ways}\")"
   ]
  },
  {
   "cell_type": "markdown",
   "metadata": {},
   "source": [
    "#### C.) Your 5 colleagues have the codenames 'Agent A', 'Agent B', 'Agent C', 'Agent D', 'Agent E' (not very creative, I know). Assuming you are ranked number 1, but your remaining colleagues are ranked completely randomly, what's the probability that the overall ranking is:\n",
    "1. You\n",
    "2. Agent C\n",
    "3. Agent A\n",
    "4. Agent D\n",
    "5. Agent E\n",
    "6. Agent B\n",
    "\n",
    "Display your answer as a percentage rounded to two decimal places, and make sure there is no extra space between the percentage number and the percentage symbol."
   ]
  },
  {
   "cell_type": "code",
   "execution_count": 74,
   "metadata": {},
   "outputs": [
    {
     "name": "stdout",
     "output_type": "stream",
     "text": [
      "0.83%\n"
     ]
    }
   ],
   "source": [
    "# Total possible rankings\n",
    "total_outcomes = math.factorial(5)\n",
    "\n",
    "# Favorable outcomes\n",
    "favorable_outcomes = 1\n",
    "\n",
    "# Calculate probability\n",
    "probability = (favorable_outcomes / total_outcomes) * 100\n",
    "\n",
    "# Display the result rounded to two decimal places\n",
    "print(f\"{probability:.2f}%\")"
   ]
  },
  {
   "cell_type": "markdown",
   "metadata": {},
   "source": [
    "## <span style=\"color:RoyalBlue\"> Exercise 1.2 - Boolean Alter Egos</span>\n",
    "\n",
    "#### A.) Try adding a <code>True</code> boolean with a <code>False</code> boolean. What do you get?"
   ]
  },
  {
   "cell_type": "code",
   "execution_count": 76,
   "metadata": {},
   "outputs": [
    {
     "name": "stdout",
     "output_type": "stream",
     "text": [
      "1\n"
     ]
    }
   ],
   "source": [
    "result = True + False\n",
    "print(result)  # Output: 1"
   ]
  },
  {
   "cell_type": "markdown",
   "metadata": {},
   "source": [
    "#### B.) Try *multiplying* a <code>True</code> boolean with a <code>False</code> boolean. What do you get?"
   ]
  },
  {
   "cell_type": "code",
   "execution_count": 78,
   "metadata": {
    "scrolled": true
   },
   "outputs": [
    {
     "name": "stdout",
     "output_type": "stream",
     "text": [
      "0\n"
     ]
    }
   ],
   "source": [
    "result = True * False\n",
    "print(result) "
   ]
  },
  {
   "cell_type": "markdown",
   "metadata": {},
   "source": [
    "#### C.) Try multiplying a <code>True</code> boolean with an arbitrary number, such as 123. What do you get?"
   ]
  },
  {
   "cell_type": "code",
   "execution_count": 80,
   "metadata": {},
   "outputs": [
    {
     "name": "stdout",
     "output_type": "stream",
     "text": [
      "123\n"
     ]
    }
   ],
   "source": [
    "result = True * 123\n",
    "print(result)"
   ]
  },
  {
   "cell_type": "markdown",
   "metadata": {},
   "source": [
    "#### D.) Try multiplying a <code>False</code> boolean with an arbitrary number, such as 123. What do you get?"
   ]
  },
  {
   "cell_type": "code",
   "execution_count": 82,
   "metadata": {
    "scrolled": true
   },
   "outputs": [
    {
     "name": "stdout",
     "output_type": "stream",
     "text": [
      "0\n"
     ]
    }
   ],
   "source": [
    "result = False * 123\n",
    "print(result)"
   ]
  },
  {
   "cell_type": "markdown",
   "metadata": {},
   "source": [
    "#### E.) What do you think the outputs above imply about how Python treats boolean values under the hood?\n",
    "* **Tip:** Keep this in the back of your mind. This idea will later."
   ]
  },
  {
   "cell_type": "markdown",
   "metadata": {},
   "source": [
    "## <span style=\"color:RoyalBlue\"> Exercise 1.3 - Training Mission Preparation</span>\n",
    "\n",
    "This is actually the start of a long series of connected exercises. These will all belong to the same **training mission**, and they will continue through the entire Python for Data Science Course.\n",
    "\n",
    "#### Here's the setting...\n",
    "\n",
    "As a new recruit, you're being sent on a training mission.\n",
    "* You will travel to different locations in London.\n",
    "* First, you will prepare for and plan the trip.\n",
    "* After you arrive at each location, you will meet with local business owners and offer your help.\n",
    "\n",
    "Simple enough, right? Let's get started.\n",
    "\n",
    "### Phase 1: Planning\n",
    "\n",
    "You're planning your mission, and HQ wants to know you if you have enough space for water.\n",
    "\n",
    "You take a look inside your bag, and this is what you brought:\n",
    "\n",
    "* You have **3** empty cylinder-shaped bottles. \n",
    "* Each bottle has a height of **16** cm and a radius of **4** cm.\n",
    "* Each bottle can be completely filled (ignore the thickness of the bottle).\n",
    "\n",
    "#### A.) First, calculate the total volume of water you can carry, in cm$^3$.\n",
    "* The formula for the volume of a cylinder is $V = \\pi r^2 h$\n",
    "* Perform your calculation in the code cell below and run the cell. If you get stuck, check the answer key for solutions."
   ]
  },
  {
   "cell_type": "code",
   "execution_count": 84,
   "metadata": {},
   "outputs": [
    {
     "name": "stdout",
     "output_type": "stream",
     "text": [
      "The total volume of water you can carry is: 2412.74 cm³\n"
     ]
    }
   ],
   "source": [
    "# Total volume of water you can carry\n",
    "import math\n",
    "\n",
    "# Constants for the bottles\n",
    "number_of_bottles = 3\n",
    "height = 16  # in cm\n",
    "radius = 4   # in cm\n",
    "\n",
    "# Formula for the volume of a cylinder: V = π * r^2 * h\n",
    "volume_per_bottle = math.pi * (radius ** 2) * height\n",
    "\n",
    "# Total volume for all bottles\n",
    "total_volume = number_of_bottles * volume_per_bottle\n",
    "\n",
    "# Display the total volume\n",
    "print(f\"The total volume of water you can carry is: {total_volume:.2f} cm³\")"
   ]
  },
  {
   "cell_type": "markdown",
   "metadata": {},
   "source": [
    "**Tip:** Some (not all) exercises will include an <strong style=\"color:RoyalBlue\">expected output</strong> so you can check your results before moving on.\n",
    "\n",
    "<strong style=\"color:RoyalBlue\">Expected output:</strong>\n",
    "\n",
    "2411.52"
   ]
  },
  {
   "cell_type": "markdown",
   "metadata": {},
   "source": [
    "#### B.) HQ estimates that you'll need at least 2000 cm$^3$ for the mission. Print <code style=\"color:steelblue\">True</code> if you have enough space or <code style=\"color:steelblue\">False</code> if you do not.\n",
    "* Use the **greater-than-or-equal-to** operator."
   ]
  },
  {
   "cell_type": "code",
   "execution_count": 90,
   "metadata": {},
   "outputs": [
    {
     "data": {
      "text/plain": [
       "True"
      ]
     },
     "execution_count": 90,
     "metadata": {},
     "output_type": "execute_result"
    }
   ],
   "source": [
    "# Do you have space for at least 2000 cm^3\n",
    "2412.74 > 2000\n"
   ]
  },
  {
   "cell_type": "markdown",
   "metadata": {},
   "source": [
    "You already told HQ that you have enough space for water, but they didn't hear you clearly... You might need to just print them a message.\n",
    "\n",
    "#### C.) Print the message, which dynamically inserting the calculated total volume capacity from (A):\n",
    "\n",
    "<pre>Yes, I have enough space. I can carry <span style=\"color:steelblue\">total_volume</span> cm^3 of water</pre>"
   ]
  },
  {
   "cell_type": "code",
   "execution_count": 96,
   "metadata": {},
   "outputs": [
    {
     "name": "stdout",
     "output_type": "stream",
     "text": [
      "Yes, I have enough space. I can carry 2412.74 cm^3 of water.\n"
     ]
    }
   ],
   "source": [
    "total_volume = 2412.74  \n",
    "  \n",
    "if total_volume > 2000:  \n",
    "   print(f\"Yes, I have enough space. I can carry {total_volume} cm^3 of water.\")  \n",
    "else:  \n",
    "   print(f\"No, I don't have enough space. I can only carry up to 2000 cm^3 of water.\")"
   ]
  },
  {
   "cell_type": "markdown",
   "metadata": {},
   "source": [
    "**D.) If HQ has provided you with 5000 cm$^3$ of water, what's the maximum number of bottles can you fill completely, assuming you could buy more bottles?**\n",
    "* The output should be an integer (completely full bottles)"
   ]
  },
  {
   "cell_type": "code",
   "execution_count": 110,
   "metadata": {},
   "outputs": [
    {
     "name": "stdout",
     "output_type": "stream",
     "text": [
      "The maximum number of bottles that can be filled completely is: 6\n"
     ]
    }
   ],
   "source": [
    "\n",
    "\n",
    "import math  \n",
    "  \n",
    "# Constants for the bottles  \n",
    "height = 16  # in cm  \n",
    "radius = 4  # in cm  \n",
    "  \n",
    "# Formula for the volume of a cylinder: V = π * r^2 * h  \n",
    "volume_per_bottle = math.pi * (radius ** 2) * height  \n",
    "  \n",
    "# Total volume of water provided by HQ  \n",
    "total_water_volume = 5000  # in cm^3  \n",
    "  \n",
    "# Calculate the maximum number of bottles that can be filled  \n",
    "max_bottles = math.floor(total_water_volume / volume_per_bottle)  \n",
    "  \n",
    "print(f\"The maximum number of bottles that can be filled completely is: {max_bottles}\")"
   ]
  },
  {
   "cell_type": "markdown",
   "metadata": {},
   "source": [
    "<strong style=\"color:RoyalBlue\">Expected output:</strong>\n",
    "\n",
    "6"
   ]
  },
  {
   "cell_type": "markdown",
   "metadata": {},
   "source": [
    "## <span style=\"color:RoyalBlue\"> Exercise 1.4 - Getting Organized with Variables</span>\n",
    "\n",
    "Repeat the calculations from <span style=\"color:RoyalBlue\">Exercise 1.3</span>, but this time use variables with descriptive names.\n",
    "\n",
    "* You have **3** empty cylinder-shaped bottles. \n",
    "* Each bottle has a height of **16** cm and a radius of **4** cm.\n",
    "* Each bottle can be completely filled (ignore the thickness of the bottle).\n",
    "* The formula for the volume of a cylinder is $V = \\pi r^2 h$\n",
    "\n",
    "#### A.) Start by setting variables with descriptive names for bottle dimensions, the number of bottles, and $\\pi$."
   ]
  },
  {
   "cell_type": "code",
   "execution_count": 100,
   "metadata": {},
   "outputs": [
    {
     "name": "stdout",
     "output_type": "stream",
     "text": [
      "The total volume of water you can carry is: 2412.74 cm³\n"
     ]
    }
   ],
   "source": [
    "# Set variables\n",
    "# Total volume of water you can carry\n",
    "import math\n",
    "\n",
    "# Constants for the bottles\n",
    "number_of_bottles = 3\n",
    "height = 16  # in cm\n",
    "radius = 4   # in cm\n",
    "\n",
    "# Formula for the volume of a cylinder: V = π * r^2 * h\n",
    "volume_per_bottle = math.pi * (radius ** 2) * height\n",
    "\n",
    "# Total volume for all bottles\n",
    "total_volume = number_of_bottles * volume_per_bottle\n",
    "\n",
    "# Display the total volume\n",
    "print(f\"The total volume of water you can carry is: {total_volume:.2f} cm³\")"
   ]
  },
  {
   "cell_type": "markdown",
   "metadata": {},
   "source": [
    "#### B.) Next, calculate the intermediary step of a single bottle's volume.\n",
    "* Set it to a new variable."
   ]
  },
  {
   "cell_type": "code",
   "execution_count": 104,
   "metadata": {},
   "outputs": [
    {
     "data": {
      "text/plain": [
       "804.2466666666666"
      ]
     },
     "execution_count": 104,
     "metadata": {},
     "output_type": "execute_result"
    }
   ],
   "source": [
    "# Calculate volume of one bottle (in cm^3)\n",
    "2412.74/3\n",
    "\n",
    "# Print volume of a single bottle\n"
   ]
  },
  {
   "cell_type": "markdown",
   "metadata": {},
   "source": [
    "<strong style=\"color:RoyalBlue\">Expected output:</strong>\n",
    "\n",
    "803.84"
   ]
  },
  {
   "cell_type": "markdown",
   "metadata": {},
   "source": [
    "#### C.) Finally, calculate total volume.\n",
    "* Set it to a new variable."
   ]
  },
  {
   "cell_type": "code",
   "execution_count": 106,
   "metadata": {},
   "outputs": [
    {
     "name": "stdout",
     "output_type": "stream",
     "text": [
      "2411.52\n"
     ]
    }
   ],
   "source": [
    "# Calculate total volume\n",
    "result = 803.84 * 3\n",
    "\n",
    "# Print total volume\n",
    "print (result)"
   ]
  },
  {
   "cell_type": "markdown",
   "metadata": {},
   "source": [
    "#### The mission continues in the next module...\n",
    "\n",
    "Now that you've stocked up on enough water, you're ready to go on your training mission into London. In the next module, we'll start planning the trip and all the locations you'll visit."
   ]
  }
 ],
 "metadata": {
  "anaconda-cloud": {},
  "kernelspec": {
   "display_name": "Python [conda env:base] *",
   "language": "python",
   "name": "conda-base-py"
  },
  "language_info": {
   "codemirror_mode": {
    "name": "ipython",
    "version": 3
   },
   "file_extension": ".py",
   "mimetype": "text/x-python",
   "name": "python",
   "nbconvert_exporter": "python",
   "pygments_lexer": "ipython3",
   "version": "3.12.7"
  }
 },
 "nbformat": 4,
 "nbformat_minor": 4
}
