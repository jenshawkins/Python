{
 "cells": [
  {
   "cell_type": "markdown",
   "metadata": {},
   "source": [
    "#### COMPANION WORKBOOK\n",
    "\n",
    "# Flow and Functions\n",
    "\n",
    "To make the most out of this program, we strongly recommend you to:\n",
    "1. First practice writing and implementing all of the code from Coding Section of the online module.\n",
    "2. Then, freely experiment with and explore any interesting or confusing concepts. Simply insert new code cells and then use the help of Google and official documentation.\n",
    "3. Finally, tackle all of the exercises at the end. They will help you tie everything together and **learn in context.**\n",
    "\n",
    "#### <span style=\"color:#555\">MODULE CODE SANDBOX</span>\n",
    "\n",
    "Use this space to practice writing and implementing all of the code from Coding Section of the online module. Insert new code cells as needed, and feel free to write notes to yourself in Markdown."
   ]
  },
  {
   "cell_type": "markdown",
   "metadata": {},
   "source": [
    "## I. IF statements allow conditional logic."
   ]
  },
  {
   "cell_type": "code",
   "execution_count": 13,
   "metadata": {},
   "outputs": [
    {
     "name": "stdout",
     "output_type": "stream",
     "text": [
      "We have enough fuel for the zombie apocalypse. \n"
     ]
    }
   ],
   "source": [
    "current_fuel = 85\n",
    "# Condition\n",
    "if current_fuel >= 80:\n",
    "    # Code block to run if condition is met\n",
    "    print ( 'We have enough fuel for the zombie apocalypse. ')"
   ]
  },
  {
   "cell_type": "code",
   "execution_count": 15,
   "metadata": {},
   "outputs": [],
   "source": [
    "# Condition is not  met\n",
    "current_fuel = 50\n",
    "if current_fuel >=80:\n",
    "    print( 'We should have enough to last us the zombie apocalpyse. ')  "
   ]
  },
  {
   "cell_type": "code",
   "execution_count": 21,
   "metadata": {},
   "outputs": [
    {
     "name": "stdout",
     "output_type": "stream",
     "text": [
      "Restock! We need at least 30 gallons.\n"
     ]
    }
   ],
   "source": [
    "# if...else allows a fallback option\n",
    "current_fuel = 50\n",
    "\n",
    "#Condition \n",
    "if current_fuel >= 80:\n",
    "    #Do this when condition is met\n",
    "    print( 'We should have enough fuel to last us the zombie apocalypse. ')\n",
    "else:\n",
    "    #Do this when condition is not met\n",
    "    print ( 'Restock! We need at least {} gallons.'.format(80 - current_fuel) )"
   ]
  },
  {
   "cell_type": "code",
   "execution_count": 25,
   "metadata": {},
   "outputs": [
    {
     "name": "stdout",
     "output_type": "stream",
     "text": [
      "ALERT: We ARE WAY TO LOW ON FUEL!\n"
     ]
    }
   ],
   "source": [
    "# If Elif...Else...allows multiple conditions, in sequence.\n",
    "\n",
    "current_fuel = 50\n",
    "\n",
    "# First condition\n",
    "if current_fuel >= 80:\n",
    "    print( 'We should have enough fuel to last us the zombie apocalypse. ')\n",
    "# If first condition is not met, check this condition\n",
    "elif current_fuel < 60:\n",
    "    print( 'ALERT: We ARE WAY TO LOW ON FUEL!' )\n",
    "# If no conditions were met, performthis\n",
    "else:\n",
    "    print( 'Restock! We need at least {} gallons.'.format(80 - current_fuel) )"
   ]
  },
  {
   "cell_type": "markdown",
   "metadata": {},
   "source": [
    "## II. FOR loops allow iteration."
   ]
  },
  {
   "cell_type": "code",
   "execution_count": 27,
   "metadata": {},
   "outputs": [
    {
     "name": "stdout",
     "output_type": "stream",
     "text": [
      "0\n",
      "1\n",
      "2\n",
      "3\n",
      "4\n"
     ]
    }
   ],
   "source": [
    "for number in [0, 1, 2, 3, 4]:\n",
    "    print( number )"
   ]
  },
  {
   "cell_type": "code",
   "execution_count": 35,
   "metadata": {},
   "outputs": [
    {
     "name": "stdout",
     "output_type": "stream",
     "text": [
      "4\n",
      "3\n",
      "2\n",
      "1\n",
      "0\n"
     ]
    }
   ],
   "source": [
    "# Reverse order\n",
    "for number in reversed(range(5)):\n",
    "    print( number )"
   ]
  },
  {
   "cell_type": "code",
   "execution_count": 41,
   "metadata": {},
   "outputs": [
    {
     "name": "stdout",
     "output_type": "stream",
     "text": [
      "Buzz\n",
      "8\n",
      "7\n",
      "Buzz\n",
      "5\n",
      "4\n",
      "Buzz\n",
      "2\n",
      "1\n",
      "Liftoff!\n"
     ]
    }
   ],
   "source": [
    "# Nested Control Flow\n",
    "range_list = range(10)\n",
    "for number in reversed(range_list):\n",
    "    if number == 0:\n",
    "        print( 'Liftoff!' )\n",
    "    elif number % 3 == 0:\n",
    "        print( 'Buzz' )\n",
    "    else:\n",
    "        print( number )"
   ]
  },
  {
   "cell_type": "code",
   "execution_count": 49,
   "metadata": {},
   "outputs": [
    {
     "name": "stdout",
     "output_type": "stream",
     "text": [
      "4 x 6 = 24\n",
      "4 x 3 = 12\n",
      "3 x 6 = 18\n",
      "3 x 3 = 9\n",
      "2 x 6 = 12\n",
      "2 x 3 = 6\n"
     ]
    }
   ],
   "source": [
    "#  Nest for loops within other for loops\n",
    "\n",
    "list_a = [4, 3, 2]\n",
    "list_b = [6, 3]\n",
    "\n",
    "for a in list_a:\n",
    "    for b in list_b:\n",
    "        print( a, 'x', b, '=', a * b )"
   ]
  },
  {
   "cell_type": "code",
   "execution_count": 59,
   "metadata": {},
   "outputs": [
    {
     "name": "stdout",
     "output_type": "stream",
     "text": [
      "[0, 2, 4, 6, 8]\n",
      "[1, 3, 5, 7, 9]\n"
     ]
    }
   ],
   "source": [
    "# Building New Lists\n",
    "\n",
    "range_list = range(10)\n",
    "#  Initialize empty lists\n",
    "evens_list = []\n",
    "odds_list = []\n",
    "\n",
    "#Iterate through each number in range_list\n",
    "for number in range_list:\n",
    "    #check for divisibility by 2\n",
    "    if number % 2 == 0:\n",
    "        # If divisible by 2\n",
    "        evens_list.append(number)\n",
    "    else:\n",
    "        # If not divisible by 2\n",
    "        odds_list.append(number)\n",
    "\n",
    "# Confirm our lists are correct\n",
    "print( evens_list )\n",
    "print( odds_list )\n",
    "\n",
    "        "
   ]
  },
  {
   "cell_type": "markdown",
   "metadata": {},
   "source": [
    "## III. List comprehensions help construct new lists elegantly."
   ]
  },
  {
   "cell_type": "code",
   "execution_count": 63,
   "metadata": {},
   "outputs": [
    {
     "name": "stdout",
     "output_type": "stream",
     "text": [
      "[0, 1, 4, 9, 16, 25, 36, 49, 64, 81]\n"
     ]
    }
   ],
   "source": [
    "# Construct list of the squares in range_list using list comprehension\n",
    "squares_list = [number**2 for number in range(10)]\n",
    "\n",
    "print ( squares_list )"
   ]
  },
  {
   "cell_type": "code",
   "execution_count": 67,
   "metadata": {},
   "outputs": [
    {
     "name": "stdout",
     "output_type": "stream",
     "text": [
      "[0]\n"
     ]
    }
   ],
   "source": [
    "# Conditional inclusion\n",
    "evens_list = [number for number in range(1) if number % 2 == 0]\n",
    "\n",
    "print( evens_list )"
   ]
  },
  {
   "cell_type": "code",
   "execution_count": 71,
   "metadata": {},
   "outputs": [
    {
     "name": "stdout",
     "output_type": "stream",
     "text": [
      "['Even', 'Odd', 'Even', 'Odd', 'Even', 'Odd', 'Even', 'Odd', 'Even', 'Odd']\n"
     ]
    }
   ],
   "source": [
    "# Conditional outputs\n",
    "\n",
    "even_odd_labels = ['Even' if number % 2 == 0 else 'Odd' for number in range_list]\n",
    "\n",
    "print( even_odd_labels )"
   ]
  },
  {
   "cell_type": "code",
   "execution_count": 73,
   "metadata": {},
   "outputs": [
    {
     "name": "stdout",
     "output_type": "stream",
     "text": [
      "{0, 2, 4, 6, 8, 10, 12, 14, 16, 18}\n"
     ]
    }
   ],
   "source": [
    "# Construct set of doubles using set comprehension\n",
    "doubles_set = {number * 2 for number in range (10) }\n",
    "\n",
    "print ( doubles_set )"
   ]
  },
  {
   "cell_type": "markdown",
   "metadata": {},
   "source": [
    "## IV. Functions are blocks of reusable, modular code."
   ]
  },
  {
   "cell_type": "code",
   "execution_count": 75,
   "metadata": {},
   "outputs": [
    {
     "name": "stdout",
     "output_type": "stream",
     "text": [
      "<class 'function'>\n"
     ]
    }
   ],
   "source": [
    "def make_message_exciting(message='hello, world'):\n",
    "    text = message + '!'\n",
    "    return text\n",
    "\n",
    "print( type(make_message_exciting) )"
   ]
  },
  {
   "cell_type": "code",
   "execution_count": 77,
   "metadata": {},
   "outputs": [
    {
     "data": {
      "text/plain": [
       "'hello, world!'"
      ]
     },
     "execution_count": 77,
     "metadata": {},
     "output_type": "execute_result"
    }
   ],
   "source": [
    "# Call make_message_exciting() function\n",
    "make_message_exciting()"
   ]
  },
  {
   "cell_type": "code",
   "execution_count": 83,
   "metadata": {},
   "outputs": [
    {
     "name": "stdout",
     "output_type": "stream",
     "text": [
      "9\n",
      "8\n",
      "17\n"
     ]
    }
   ],
   "source": [
    "def square(x):\n",
    "    output = x*x\n",
    "    return output\n",
    "\n",
    "def cube(x):\n",
    "    output = x*x*x\n",
    "    return output\n",
    "\n",
    "print( square(3) )\n",
    "print( cube(2) )\n",
    "print( square(3) + cube(2) )"
   ]
  },
  {
   "cell_type": "markdown",
   "metadata": {},
   "source": [
    "#### <span style=\"color:#555\">EXERCISES</span>\n",
    "\n",
    "Complete each of the following exercises.\n",
    "\n",
    "## <span style=\"color:RoyalBlue\">Exercise 3.1 - Optimal Start</span>\n",
    "\n",
    "#### In the previous module...\n",
    "\n",
    "In the previous module, you created a location dictionary for the boroughs we're interested in visting. Now we're ready to pick a location to start with.\n",
    "\n",
    "#### A.) First, let's import <code style=\"color:steelblue\">location_dict</code> again using <code style=\"color:steelblue\">pickle</code>. Run this cell."
   ]
  },
  {
   "cell_type": "code",
   "execution_count": 87,
   "metadata": {},
   "outputs": [],
   "source": [
    "import pickle\n",
    "\n",
    "# Read object from disk\n",
    "with open('location_dict.pkl', 'rb') as f:\n",
    "    location_dict = pickle.load(f)"
   ]
  },
  {
   "cell_type": "markdown",
   "metadata": {},
   "source": [
    "Now we have the <code style=\"color:steelblue\">location_dict</code> object again, but what if we forgot which keys are in the dictionary? \n",
    "\n",
    "#### B.) Print the keys in <code style=\"color:steelblue\">location_dict</code>."
   ]
  },
  {
   "cell_type": "code",
   "execution_count": 89,
   "metadata": {},
   "outputs": [
    {
     "name": "stdout",
     "output_type": "stream",
     "text": [
      "dict_keys(['Brent', 'Camden', 'Redbridge', 'Southwark', 'Inner London', 'Outer London'])\n"
     ]
    }
   ],
   "source": [
    "# Print the keys in location_dict\n",
    "print(location_dict.keys())"
   ]
  },
  {
   "cell_type": "markdown",
   "metadata": {},
   "source": [
    "<strong style=\"color:RoyalBlue\">Expected output:</strong>\n",
    "\n",
    "<pre>dict_keys(['Southwark', 'Redbridge', 'Outer London', 'Inner London', 'Camden', 'Brent'])</pre>"
   ]
  },
  {
   "cell_type": "markdown",
   "metadata": {},
   "source": [
    "Ah, yes... Now, we need to choose between starting with <code style=\"color:steelblue\">'Outer London'</code> or with <code style=\"color:steelblue\">'Inner London'</code>. We should start with the list with more locations, so let's find which one it is.\n",
    "\n",
    "#### C.) Write code, using <code style=\"color:steelblue\">if</code> statements, that does the following:\n",
    "* **If** our Inner London list has more locations than our Outer London list, print the message:\n",
    "\n",
    "\n",
    "<pre style=\"color:steelblue\">I want to start in Inner London.</pre>\n",
    "\n",
    "\n",
    "* **Else** if our Outer London list has more locations than our Inner London list, print the message:\n",
    "\n",
    "    \n",
    "<pre style=\"color:steelblue\">I want to start in Outer London.</pre>\n",
    "\n",
    "\n",
    "* **Else** (i.e. they have the same number of locations), print the message:\n",
    "\n",
    "\n",
    "<pre style=\"color:steelblue\">Either is fine. I'll flip a coin.</pre>\n",
    "\n"
   ]
  },
  {
   "cell_type": "code",
   "execution_count": 91,
   "metadata": {},
   "outputs": [
    {
     "name": "stdout",
     "output_type": "stream",
     "text": [
      "I want to start in Inner London.\n"
     ]
    }
   ],
   "source": [
    "# Define the lists for Inner and Outer London\n",
    "inner_london_locations = ['Location1', 'Location2', 'Location3']\n",
    "outer_london_locations = ['LocationA', 'LocationB']\n",
    "\n",
    "# Compare the lengths of the lists\n",
    "if len(inner_london_locations) > len(outer_london_locations):\n",
    "    print(\"I want to start in Inner London.\")\n",
    "elif len(outer_london_locations) > len(inner_london_locations):\n",
    "    print(\"I want to start in Outer London.\")\n",
    "else:\n",
    "    print(\"Either is fine. I'll flip a coin.\")"
   ]
  },
  {
   "cell_type": "code",
   "execution_count": null,
   "metadata": {
    "scrolled": true
   },
   "outputs": [],
   "source": []
  },
  {
   "cell_type": "code",
   "execution_count": null,
   "metadata": {},
   "outputs": [],
   "source": []
  }
 ],
 "metadata": {
  "anaconda-cloud": {},
  "kernelspec": {
   "display_name": "Python [conda env:base] *",
   "language": "python",
   "name": "conda-base-py"
  },
  "language_info": {
   "codemirror_mode": {
    "name": "ipython",
    "version": 3
   },
   "file_extension": ".py",
   "mimetype": "text/x-python",
   "name": "python",
   "nbconvert_exporter": "python",
   "pygments_lexer": "ipython3",
   "version": "3.12.7"
  }
 },
 "nbformat": 4,
 "nbformat_minor": 4
}
