{
 "cells": [
  {
   "cell_type": "markdown",
   "metadata": {},
   "source": [
    "#### COMPANION WORKBOOK\n",
    "\n",
    "# Data Structures\n",
    "\n",
    "To make the most out of this program, we strongly recommend you to:\n",
    "1. First practice writing and implementing all of the code from Coding Section of the online module.\n",
    "2. Then, freely experiment with and explore any interesting or confusing concepts. Simply insert new code cells and then use the help of Google and official documentation.\n",
    "3. Finally, tackle all of the exercises at the end. They will help you tie everything together and **learn in context.**\n",
    "\n",
    "#### <span style=\"color:#555\">MODULE CODE SANDBOX</span>\n",
    "\n",
    "Use this space to practice writing and implementing all of the code from Coding Section of the online module. Insert new code cells as needed, and feel free to write notes to yourself in Markdown."
   ]
  },
  {
   "cell_type": "markdown",
   "metadata": {},
   "source": [
    "## I. Lists are mutable sequences of objects."
   ]
  },
  {
   "cell_type": "code",
   "execution_count": 162,
   "metadata": {},
   "outputs": [
    {
     "name": "stdout",
     "output_type": "stream",
     "text": [
      "[0, 1, 2, 3, 4]\n",
      "<class 'list'>\n"
     ]
    }
   ],
   "source": [
    "integer_list = [0, 1, 2, 3, 4]\n",
    "\n",
    "print( integer_list )\n",
    "print( type(integer_list) )"
   ]
  },
  {
   "cell_type": "code",
   "execution_count": 164,
   "metadata": {},
   "outputs": [
    {
     "name": "stdout",
     "output_type": "stream",
     "text": [
      "['hello', 1, 'world', 2, 3.0]\n"
     ]
    }
   ],
   "source": [
    "# Create list of mixed types: strings, ints, and floats\n",
    "my_list = ['hello', 1, 'world', 2, 3.0]\n",
    "\n",
    "# Print entire list\n",
    "print( my_list )"
   ]
  },
  {
   "cell_type": "code",
   "execution_count": 166,
   "metadata": {},
   "outputs": [
    {
     "name": "stdout",
     "output_type": "stream",
     "text": [
      "hello\n",
      "world\n"
     ]
    }
   ],
   "source": [
    "print( my_list[0] ) # Print the FIRST element\n",
    "print( my_list[2] ) # Print the THIRD element"
   ]
  },
  {
   "cell_type": "markdown",
   "metadata": {},
   "source": [
    "## II. Tuples are immutable sequences of objects."
   ]
  },
  {
   "cell_type": "code",
   "execution_count": 168,
   "metadata": {},
   "outputs": [
    {
     "name": "stdout",
     "output_type": "stream",
     "text": [
      "(0, 1, 2, 3, 4)\n",
      "<class 'tuple'>\n"
     ]
    }
   ],
   "source": [
    "integer_tuple = (0, 1, 2, 3, 4)\n",
    "\n",
    "print( integer_tuple )\n",
    "print( type(integer_tuple) )"
   ]
  },
  {
   "cell_type": "code",
   "execution_count": 170,
   "metadata": {},
   "outputs": [
    {
     "name": "stdout",
     "output_type": "stream",
     "text": [
      "('hello', 1, 'world', 2, 3.0)\n"
     ]
    }
   ],
   "source": [
    "# Create tuple of mixed types: strings, ints, and floats\n",
    "my_tuple = ('hello', 1, 'world', 2, 3.0)\n",
    "\n",
    "# Print entire tuple\n",
    "print( my_tuple )"
   ]
  },
  {
   "cell_type": "code",
   "execution_count": 172,
   "metadata": {},
   "outputs": [
    {
     "name": "stdout",
     "output_type": "stream",
     "text": [
      "hello\n",
      "world\n"
     ]
    }
   ],
   "source": [
    "print( my_tuple[0] ) # Print the first element\n",
    "print( my_tuple[2] ) # Print the third element"
   ]
  },
  {
   "cell_type": "markdown",
   "metadata": {},
   "source": [
    "## III. Sets are collections of unique objects."
   ]
  },
  {
   "cell_type": "code",
   "execution_count": 174,
   "metadata": {},
   "outputs": [
    {
     "name": "stdout",
     "output_type": "stream",
     "text": [
      "{0, 1, 2, 3, 4}\n",
      "<class 'set'>\n"
     ]
    }
   ],
   "source": [
    "integer_set = {0, 1, 2, 3, 4}\n",
    "\n",
    "print( integer_set )\n",
    "print( type(integer_set) )"
   ]
  },
  {
   "cell_type": "code",
   "execution_count": 176,
   "metadata": {},
   "outputs": [
    {
     "name": "stdout",
     "output_type": "stream",
     "text": [
      "{0, 1, 2, 3, 4} has 5 elements.\n"
     ]
    }
   ],
   "source": [
    "# Print length of integer set\n",
    "print( integer_set, 'has', len(integer_set), 'elements.' )"
   ]
  },
  {
   "cell_type": "code",
   "execution_count": 178,
   "metadata": {},
   "outputs": [
    {
     "name": "stdout",
     "output_type": "stream",
     "text": [
      "[1, 1, 2, 3, 5, 8, 13]\n",
      "{1, 2, 3, 5, 8, 13}\n"
     ]
    }
   ],
   "source": [
    "fibonacci_list = [ 1, 1, 2, 3, 5, 8, 13 ] # Will keep both 1's will remain\n",
    "fibonacci_set = { 1, 1, 2, 3, 5, 8, 13 }  # Only one 1 will remain\n",
    "\n",
    "print( fibonacci_list )\n",
    "print( fibonacci_set )"
   ]
  },
  {
   "cell_type": "markdown",
   "metadata": {},
   "source": [
    "## IV. Dictionaries are collections of key-value pairs."
   ]
  },
  {
   "cell_type": "code",
   "execution_count": 180,
   "metadata": {},
   "outputs": [
    {
     "name": "stdout",
     "output_type": "stream",
     "text": [
      "{'zero': 0, 'one': 1, 'two': 2, 'three': 3, 'four': 4}\n",
      "<class 'dict'>\n"
     ]
    }
   ],
   "source": [
    "integer_dict = {\n",
    "    'zero' : 0,\n",
    "    'one' : 1,\n",
    "    'two' : 2,\n",
    "    'three' : 3,\n",
    "    'four' : 4\n",
    "}\n",
    "\n",
    "print( integer_dict )\n",
    "print( type(integer_dict) )"
   ]
  },
  {
   "cell_type": "code",
   "execution_count": 184,
   "metadata": {},
   "outputs": [],
   "source": [
    "my_dict = {\n",
    "    'title' : \"Hitchhiker's Guide to the Galaxy\",\n",
    "    'author' : 'Dougie Adams',\n",
    "    42 : ['A number.', 'The answer to 40 + 2 = ?'] # Keys can be integers too!\n",
    "}"
   ]
  },
  {
   "cell_type": "code",
   "execution_count": 186,
   "metadata": {},
   "outputs": [
    {
     "name": "stdout",
     "output_type": "stream",
     "text": [
      "Hitchhiker's Guide to the Galaxy\n",
      "Dougie Adams\n"
     ]
    }
   ],
   "source": [
    "# Print the value for the 'title' key\n",
    "print( my_dict['title'] )\n",
    "\n",
    "# Print the value for the 'author' key\n",
    "print( my_dict['author'] )\n"
   ]
  },
  {
   "cell_type": "markdown",
   "metadata": {},
   "source": [
    "#### <span style=\"color:#555\">EXERCISES</span>\n",
    "\n",
    "Complete each of the following exercises.\n",
    "\n",
    "## <span style=\"color:RoyalBlue\">Exercise 2.1 - Listing the Locations</span>\n",
    "\n",
    "#### In the previous module...\n",
    "\n",
    "In the previous module, you learned about the training mission: a visit to London. You also made sure you had enough water for the trip by performing calculations. Now, it's time to start planning the locations in London to visit! Before we start, let's import lists of locations by borough. \n",
    "* These are stored in text files that HQ has provided for you. \n",
    "* Python has a variety of **input/output** methods. We won't cover them here, but you can learn more about them in the [documentation](https://docs.python.org/3/tutorial/inputoutput.html).\n",
    "\n",
    "#### A.) First, run this code. This will read lists of locations by borough."
   ]
  },
  {
   "cell_type": "code",
   "execution_count": 188,
   "metadata": {},
   "outputs": [],
   "source": [
    "# Read lists of locations (simply run this code block)\n",
    "with open('project_files/brent.txt', 'r') as f:\n",
    "    brent = f.read().splitlines()\n",
    "    \n",
    "with open('project_files/camden.txt', 'r') as f:\n",
    "    camden = f.read().splitlines()\n",
    "\n",
    "with open('project_files/redbridge.txt', 'r') as f:\n",
    "    redbridge = f.read().splitlines()\n",
    "\n",
    "with open('project_files/southwark.txt', 'r') as f:\n",
    "    southwark = f.read().splitlines()"
   ]
  },
  {
   "cell_type": "markdown",
   "metadata": {},
   "source": [
    "Note that when text files are read using the <code style=\"color:steelblue\">splitlines()</code> function, the resulting object is a list.\n",
    "\n",
    "So the four objects you just created from the files - <code style=\"color:steelblue\">brent</code>, <code style=\"color:steelblue\">camden</code>, <code style=\"color:steelblue\">redbridge</code>, and <code style=\"color:steelblue\">southwark</code> - are all lists.\n",
    "\n",
    "#### B.) Confirm that the new objects are all Python lists."
   ]
  },
  {
   "cell_type": "code",
   "execution_count": 190,
   "metadata": {},
   "outputs": [
    {
     "name": "stdout",
     "output_type": "stream",
     "text": [
      "<class 'list'>\n",
      "<class 'list'>\n",
      "<class 'list'>\n",
      "<class 'list'>\n"
     ]
    }
   ],
   "source": [
    "# Display the classes of your new objects\n",
    "print(type(brent))  # Output: <class 'list'>  \n",
    "print(type(camden))  # Output: <class 'list'>  \n",
    "print(type(redbridge))  # Output: <class 'list'>  \n",
    "print(type(southwark))  # Output: <class 'list'>"
   ]
  },
  {
   "cell_type": "markdown",
   "metadata": {},
   "source": [
    "Let's start exploring this data.\n",
    "\n",
    "#### C.) Print the first 5 locations in the Camden list."
   ]
  },
  {
   "cell_type": "code",
   "execution_count": 192,
   "metadata": {},
   "outputs": [
    {
     "name": "stdout",
     "output_type": "stream",
     "text": [
      "['Chalk Farm', 'Dartmouth Park', 'Fitzrovia', 'Frognal', 'Bloomsbury']\n"
     ]
    }
   ],
   "source": [
    "# Print the first 5 locations in Camden\n",
    "print(camden[:5])"
   ]
  },
  {
   "cell_type": "markdown",
   "metadata": {},
   "source": [
    "<strong style=\"color:RoyalBlue\">Expected output:</strong>\n",
    "\n",
    "<pre>['Chalk Farm', 'Dartmouth Park', 'Fitzrovia', 'Frognal', 'Bloomsbury']</pre>"
   ]
  },
  {
   "cell_type": "markdown",
   "metadata": {},
   "source": [
    "Next, we need to know how many locations are in each borough. \n",
    "\n",
    "#### D.) Print the number of locations in each list.\n",
    "* Which borough has the most locations?\n",
    "* Which borough has the fewest locations?"
   ]
  },
  {
   "cell_type": "code",
   "execution_count": 194,
   "metadata": {},
   "outputs": [
    {
     "name": "stdout",
     "output_type": "stream",
     "text": [
      "Brent locations: 19\n",
      "Camden locations: 22\n",
      "Redbridge locations: 18\n",
      "Southwark locations: 15\n",
      "\n",
      "Most locations: Camden with 22 locations\n",
      "Fewest locations: Southwark with 15 locations\n"
     ]
    }
   ],
   "source": [
    "# Print counts for each borough\n",
    "print(f\"Brent locations: {len(brent)}\")\n",
    "print(f\"Camden locations: {len(camden)}\")\n",
    "print(f\"Redbridge locations: {len(redbridge)}\")\n",
    "print(f\"Southwark locations: {len(southwark)}\")\n",
    "\n",
    "# Create a dictionary to find min and max\n",
    "borough_counts = {\n",
    "    'Brent': len(brent),\n",
    "    'Camden': len(camden),\n",
    "    'Redbridge': len(redbridge),\n",
    "    'Southwark': len(southwark)\n",
    "}\n",
    "\n",
    "# Find borough with most locations\n",
    "most_locations = max(borough_counts.items(), key=lambda x: x[1])\n",
    "print(f\"\\nMost locations: {most_locations[0]} with {most_locations[1]} locations\")\n",
    "\n",
    "# Find borough with fewest locations\n",
    "fewest_locations = min(borough_counts.items(), key=lambda x: x[1])\n",
    "print(f\"Fewest locations: {fewest_locations[0]} with {fewest_locations[1]} locations\")# Print length of each list\n"
   ]
  },
  {
   "cell_type": "markdown",
   "metadata": {},
   "source": [
    "<strong style=\"color:RoyalBlue\">Expected output:</strong>\n",
    "<pre>\n",
    "19\n",
    "22\n",
    "18\n",
    "15\n",
    "</pre>\n",
    "\n",
    "*Camden has the most locations and Southwark has the fewest.*"
   ]
  },
  {
   "cell_type": "markdown",
   "metadata": {},
   "source": [
    "#### E.) Next, HQ wants to check a few locations. Do the following:\n",
    "* **Print <code style=\"color:steelblue\">True</code> if <code>'Newbury Park'</code> is in Redbridge or <code style=\"color:steelblue\">False</code> if it's not.**\n",
    "* **Print <code style=\"color:steelblue\">True</code> if <code>'Peckham'</code> is in Brent or <code style=\"color:steelblue\">False</code> if it's not.**"
   ]
  },
  {
   "cell_type": "code",
   "execution_count": 196,
   "metadata": {},
   "outputs": [
    {
     "name": "stdout",
     "output_type": "stream",
     "text": [
      "True\n",
      "False\n"
     ]
    }
   ],
   "source": [
    "# Is 'Newbury Park' in Redbridge?\n",
    "print('Newbury Park' in redbridge)\n",
    "\n",
    "# Is 'Peckham' in Brent?\n",
    "print('Peckham' in brent)"
   ]
  },
  {
   "cell_type": "markdown",
   "metadata": {},
   "source": [
    "#### F.) Next, try printing the \"minimum\" and \"maximum\" values in the Southwark list.\n",
    "* Why do you think you get those results?\n",
    "* How do you think lists of strings are ordered?"
   ]
  },
  {
   "cell_type": "code",
   "execution_count": 198,
   "metadata": {
    "scrolled": true
   },
   "outputs": [
    {
     "name": "stdout",
     "output_type": "stream",
     "text": [
      "Minimum value: Bankside\n",
      "Maximum value: Walworth\n"
     ]
    }
   ],
   "source": [
    "# Print minimum value in southwark\n",
    "print(\"Minimum value:\", min(southwark))\n",
    "\n",
    "\n",
    "\n",
    "# Print maximum value in southwark\n",
    "print(\"Maximum value:\", max(southwark))\n"
   ]
  },
  {
   "cell_type": "markdown",
   "metadata": {},
   "source": [
    "#### G.) Finally, try printing the \"minimum\" and \"maximum\" values from all of the other 3 lists.\n",
    "* Do the results confirm your suspicions from (F)?"
   ]
  },
  {
   "cell_type": "code",
   "execution_count": 200,
   "metadata": {},
   "outputs": [
    {
     "name": "stdout",
     "output_type": "stream",
     "text": [
      "Brent minimum: Alperton\n",
      "Brent maximum: Willesden\n",
      "\n",
      "Camden minimum: Belsize Park\n",
      "Camden maximum: West Hampstead\n",
      "\n",
      "Redbridge minimum: Aldborough Hatch\n",
      "Redbridge maximum: Woodford Green\n"
     ]
    }
   ],
   "source": [
    "# Print min/max values in brent\n",
    "# Brent min/max\n",
    "print(\"Brent minimum:\", min(brent))\n",
    "print(\"Brent maximum:\", max(brent))\n",
    "\n",
    "# Camden min/max\n",
    "print(\"\\nCamden minimum:\", min(camden))\n",
    "print(\"Camden maximum:\", max(camden))\n",
    "\n",
    "# Redbridge min/max\n",
    "print(\"\\nRedbridge minimum:\", min(redbridge))\n",
    "print(\"Redbridge maximum:\", max(redbridge))\n",
    "\n"
   ]
  },
  {
   "cell_type": "markdown",
   "metadata": {},
   "source": [
    "## <span style=\"color:RoyalBlue\">Exercise 2.2 - Setting Uniques</span>\n",
    "\n",
    "Let's continue planning locations to visit for our training mission to London. Before we continue, we need to remove duplicates from our lists because we don't have time to visit the same location twice.\n",
    "\n",
    "#### A.) For each of the 4 lists of locations, print <code style=\"color:steelblue\">True</code> if it has duplicate locations and <code style=\"color:steelblue\">False</code> if it doesn't.\n",
    "* Hint: A list with duplicates will have a greater length than a set of the same locations."
   ]
  },
  {
   "cell_type": "code",
   "execution_count": 202,
   "metadata": {},
   "outputs": [
    {
     "name": "stdout",
     "output_type": "stream",
     "text": [
      "Brent has duplicates: False\n",
      "Camden has duplicates: True\n",
      "Redbridge has duplicates: True\n",
      "Southwark has duplicates: True\n"
     ]
    }
   ],
   "source": [
    "# Brent has duplicates?\n",
    "print(\"Brent has duplicates:\", len(brent) != len(set(brent)))\n",
    "\n",
    "# Camden has duplicates?\n",
    "print(\"Camden has duplicates:\", len(camden) != len(set(camden)))\n",
    "\n",
    "# Redbridge has duplicates?\n",
    "print(\"Redbridge has duplicates:\", len(redbridge) != len(set(redbridge)))\n",
    "\n",
    "# Southwark has duplicates?\n",
    "# Check for duplicates by comparing length of list vs length of set\n",
    "print(\"Southwark has duplicates:\", len(southwark) != len(set(southwark)))\n"
   ]
  },
  {
   "cell_type": "markdown",
   "metadata": {},
   "source": [
    "<strong style=\"color:RoyalBlue\">Expected output:</strong>\n",
    "<pre>\n",
    "False\n",
    "True\n",
    "True\n",
    "True\n",
    "</pre>"
   ]
  },
  {
   "cell_type": "markdown",
   "metadata": {},
   "source": [
    "#### B.) For the lists with duplicates, remove duplicates by converting them into sets. Then, convert them back into lists.\n",
    "* Hint: <code style=\"color:steelblue\">set()</code> and <code style=\"color:steelblue\">list()</code> are your friends."
   ]
  },
  {
   "cell_type": "code",
   "execution_count": 204,
   "metadata": {},
   "outputs": [
    {
     "name": "stdout",
     "output_type": "stream",
     "text": [
      "Brent locations: 19\n",
      "Camden locations: 19\n",
      "Redbridge locations: 16\n",
      "Southwark locations: 13\n"
     ]
    }
   ],
   "source": [
    "# Convert lists to sets to remove duplicates, then convert them back to lists \n",
    "brent = list(set(brent))\n",
    "camden = list(set(camden))\n",
    "redbridge = list(set(redbridge))\n",
    "southwark = list(set(southwark))\n",
    "print(\"Brent locations:\", len(brent))\n",
    "print(\"Camden locations:\", len(camden))\n",
    "print(\"Redbridge locations:\", len(redbridge))\n",
    "print(\"Southwark locations:\", len(southwark))"
   ]
  },
  {
   "cell_type": "markdown",
   "metadata": {},
   "source": [
    "Great, we're now almost ready to visit the locations. \n",
    "\n",
    "But first, let's look at a simple way to store the locations in one place."
   ]
  },
  {
   "cell_type": "markdown",
   "metadata": {},
   "source": [
    "## <span style=\"color:RoyalBlue\">Exercise 2.3 - Dictionary Database</span>\n",
    "\n",
    "We're almost ready to visit the locations in London! However, it's too cumbersome to lug around the 4 different lists we created in the previous exercise.\n",
    "\n",
    "#### A.) Create a single dictionary named <code style=\"color:steelblue\">location_dict</code> for the locations in each borough.\n",
    "* Each key should be the name of the borough.\n",
    "* Their values should be the lists of unique locations you created in <span style=\"color:RoyalBlue\">Exercise 2.2</span>."
   ]
  },
  {
   "cell_type": "code",
   "execution_count": 206,
   "metadata": {},
   "outputs": [
    {
     "name": "stdout",
     "output_type": "stream",
     "text": [
      "['Gospel Oak', 'St Giles', 'Camden Town', 'Dartmouth Park', 'Somerstown', 'Chalk Farm', 'Frognal', 'Bloomsbury', 'Holborn', 'Fitzrovia', 'Belsize Park', 'Hampstead', 'Primrose Hill', 'West Hampstead', \"King's Cross\", 'Kentish Town', 'Swiss Cottage', 'Highgate', 'St Pancras']\n",
      "['Preston', 'Sudbury', 'Brondesbury', 'Wembley', 'Kingsbury', 'Wembley Park', 'Brent Park', 'Kenton', 'Alperton', 'Kilburn', 'Harlesden', 'Dollis Hill', 'Neasden', 'Tokyngton', 'Park Royal', 'Willesden', 'Kensal Green', \"Queen's Park\", 'Church End']\n"
     ]
    }
   ],
   "source": [
    "# Create location_dict\n",
    "location_dict = {\n",
    "    'Brent': brent,\n",
    "    'Camden': camden,\n",
    "    'Redbridge': redbridge,\n",
    "    'Southwark': southwark\n",
    "}\n",
    "print(location_dict['Camden'])  # prints Camden's locations\n",
    "print(location_dict['Brent'])   # prints Brent's locations\n"
   ]
  },
  {
   "cell_type": "markdown",
   "metadata": {},
   "source": [
    "Next, let's make sure the dictionary has the correct keys. \n",
    "\n",
    "#### B.) Run the cell below and check the output.\n",
    "* What do you think the code below is doing?\n",
    "* You'll learn more about <code style=\"color:steelblue\">for</code> loops in the next module."
   ]
  },
  {
   "cell_type": "code",
   "execution_count": 208,
   "metadata": {},
   "outputs": [
    {
     "name": "stdout",
     "output_type": "stream",
     "text": [
      "True\n",
      "True\n",
      "True\n",
      "True\n"
     ]
    }
   ],
   "source": [
    "# Run this cell\n",
    "for borough in ['Brent', 'Camden', 'Redbridge', 'Southwark']:\n",
    "    print( borough in location_dict )"
   ]
  },
  {
   "cell_type": "markdown",
   "metadata": {},
   "source": [
    "<strong style=\"color:RoyalBlue\">Expected output:</strong>\n",
    "<pre>\n",
    "True\n",
    "True\n",
    "True\n",
    "True\n",
    "</pre>"
   ]
  },
  {
   "cell_type": "markdown",
   "metadata": {},
   "source": [
    "Did you get the expected output? If not, check the answer key before moving on.\n",
    "\n",
    "You've just received a message from HQ. *\"Now that you've set up your dictionary, you won't need the original lists anymore. Get rid of them and wipe them clean.\"*\n",
    "\n",
    "#### C.) Overwrite the original borough lists with <code style=\"color:steelblue\">None</code>.\n",
    "* <code style=\"color:steelblue\">None</code> is an object that denotes emptiness. It's a separate object type within Python, similar to integers, floats, etc.\n",
    "* There are different ways to approach this. See if you can do it in just one line of code! (Hint: \"unpacking\") The answer key has the solution that uses only one line of code."
   ]
  },
  {
   "cell_type": "code",
   "execution_count": 210,
   "metadata": {},
   "outputs": [
    {
     "name": "stdout",
     "output_type": "stream",
     "text": [
      "location_dict type: <class 'NoneType'>\n"
     ]
    }
   ],
   "source": [
    "# Wipe your original lists clean with None\n",
    "location_dict = None\n",
    "print(\"location_dict type:\", type(location_dict))\n"
   ]
  },
  {
   "cell_type": "markdown",
   "metadata": {},
   "source": [
    "#### D.) Confirm that all of your lists were wiped successfully. Print out each one's new class/type.\n",
    "* Tip: When you overwrite a variable with a new object, it keeps the same variable name, but the object could be a completely different type of object."
   ]
  },
  {
   "cell_type": "code",
   "execution_count": 214,
   "metadata": {
    "scrolled": true
   },
   "outputs": [
    {
     "name": "stdout",
     "output_type": "stream",
     "text": [
      "Brent type: <class 'list'>\n",
      "Camden type: <class 'list'>\n",
      "Redbridge type: <class 'list'>\n",
      "Southwark type: <class 'list'>\n"
     ]
    }
   ],
   "source": [
    "print(\"Brent type:\", type(brent))\n",
    "print(\"Camden type:\", type(camden))\n",
    "print(\"Redbridge type:\", type(redbridge))\n",
    "print(\"Southwark type:\", type(southwark))"
   ]
  },
  {
   "cell_type": "markdown",
   "metadata": {},
   "source": [
    "## <span style=\"color:RoyalBlue\">Exercise 2.3 - Dictionary Database</span>\n",
    "\n",
    "We're almost ready to visit the locations in London! However, it's too cumbersome to lug around the 4 different lists we created in the previous exercise.\n",
    "\n",
    "#### A.) Create a single dictionary named <code style=\"color:steelblue\">location_dict</code> for the locations in each borough.\n",
    "* Each key should be the name of the borough.\n",
    "* Their values should be the lists of unique locations you created in <span style=\"color:RoyalBlue\">Exercise 2.2</span>."
   ]
  },
  {
   "cell_type": "code",
   "execution_count": 220,
   "metadata": {},
   "outputs": [
    {
     "name": "stdout",
     "output_type": "stream",
     "text": [
      "['Gospel Oak', 'St Giles', 'Camden Town', 'Dartmouth Park', 'Somerstown', 'Chalk Farm', 'Frognal', 'Bloomsbury', 'Holborn', 'Fitzrovia', 'Belsize Park', 'Hampstead', 'Primrose Hill', 'West Hampstead', \"King's Cross\", 'Kentish Town', 'Swiss Cottage', 'Highgate', 'St Pancras']\n",
      "['Preston', 'Sudbury', 'Brondesbury', 'Wembley', 'Kingsbury', 'Wembley Park', 'Brent Park', 'Kenton', 'Alperton', 'Kilburn', 'Harlesden', 'Dollis Hill', 'Neasden', 'Tokyngton', 'Park Royal', 'Willesden', 'Kensal Green', \"Queen's Park\", 'Church End']\n",
      "location_dict type: <class 'dict'>\n"
     ]
    }
   ],
   "source": [
    "location_dict = {\n",
    "    'Brent': brent,\n",
    "    'Camden': camden,\n",
    "    'Redbridge': redbridge,\n",
    "    'Southwark': southwark\n",
    "}\n",
    "print(location_dict['Camden'])  # prints Camden's locations\n",
    "print(location_dict['Brent'])   # prints Brent's locations\n",
    "\n",
    "print(\"location_dict type:\", type(location_dict))\n"
   ]
  },
  {
   "cell_type": "markdown",
   "metadata": {},
   "source": [
    "<strong style=\"color:RoyalBlue\">Expected output:</strong>\n",
    "<pre>\n",
    "&lt;class 'NoneType'>\n",
    "&lt;class 'NoneType'>\n",
    "&lt;class 'NoneType'>\n",
    "&lt;class 'NoneType'>\n",
    "</pre>"
   ]
  },
  {
   "cell_type": "markdown",
   "metadata": {},
   "source": [
    "Now, we want to split our visit to London into two trips: one for Inner London and one for Outer London.\n",
    "\n",
    "#### E.) Add two new items to your dictionary:\n",
    "1. **Key:** <code style=\"color:steelblue\">'Inner London'</code>... **Value:** All locations in <code style=\"color:steelblue\">'Camden'</code> and <code style=\"color:steelblue\">'Southwark'</code>.\n",
    "2. **Key:** <code style=\"color:steelblue\">'Outer London'</code>... **Value:** All locations in <code style=\"color:steelblue\">'Brent'</code> and <code style=\"color:steelblue\">'Redbridge'</code>.\n",
    "\n",
    "Since you got rid of your original lists, you'll have to use the values you've already stored in your dictionary."
   ]
  },
  {
   "cell_type": "code",
   "execution_count": 95,
   "metadata": {},
   "outputs": [
    {
     "name": "stdout",
     "output_type": "stream",
     "text": [
      "Inner London locations: 32\n",
      "Outer London locations: 35\n"
     ]
    }
   ],
   "source": [
    "# Create a new key-value pair for 'Inner London'\n",
    "location_dict['Inner London'] = location_dict['Camden'] + location_dict['Southwark']\n",
    "location_dict['Outer London'] = location_dict['Brent'] + location_dict['Redbridge']\n",
    "\n",
    "# Create a new key-value pair for 'Outer London'\n",
    "\n",
    "print(\"Inner London locations:\", len(location_dict['Inner London']))\n",
    "print(\"Outer London locations:\", len(location_dict['Outer London']))"
   ]
  },
  {
   "cell_type": "markdown",
   "metadata": {},
   "source": [
    "Finally, let's just check that we have the right number of locations for each trip.\n",
    "* You should have 32 for Inner London\n",
    "* You should have 35 for Outer London\n",
    "\n",
    "#### F.) Run the cell below and check that you get the expected output.\n",
    "* The <code>len</code> function counts the number of elements in a list-like object. You'll see this pop up many times throughout this program."
   ]
  },
  {
   "cell_type": "code",
   "execution_count": 97,
   "metadata": {},
   "outputs": [
    {
     "name": "stdout",
     "output_type": "stream",
     "text": [
      "32\n",
      "35\n"
     ]
    }
   ],
   "source": [
    "print( len(location_dict['Inner London']) )\n",
    "print( len(location_dict['Outer London']) )"
   ]
  },
  {
   "cell_type": "markdown",
   "metadata": {},
   "source": [
    "<strong style=\"color:RoyalBlue\">Expected output:</strong>\n",
    "<pre>\n",
    "32\n",
    "35\n",
    "</pre>"
   ]
  },
  {
   "cell_type": "markdown",
   "metadata": {},
   "source": [
    "If you don't have the right number of locations, doublecheck that you removed duplicates and that you're concatenating the correct lists. You can also check the answer key for the solution.\n",
    "\n",
    "#### G.) Once you have the right number of locations, let's save this object so we can use it in the next module. Run the cell below.\n",
    "* We'll use a Python built-in package called <code style=\"color:steelblue\">pickle</code> to do so.\n",
    "* Pickle saves an entire object in a file on your computer."
   ]
  },
  {
   "cell_type": "code",
   "execution_count": 99,
   "metadata": {},
   "outputs": [],
   "source": [
    "import pickle\n",
    "\n",
    "# Save object to disk\n",
    "with open('location_dict.pkl', 'wb') as f:\n",
    "    pickle.dump(location_dict, f)"
   ]
  },
  {
   "cell_type": "markdown",
   "metadata": {},
   "source": [
    "#### The mission continues in the next module...\n",
    "\n",
    "Now you have a dictionary of locations in London by borough. In the next module, we'll look through the locations and pick one to start with."
   ]
  }
 ],
 "metadata": {
  "anaconda-cloud": {},
  "kernelspec": {
   "display_name": "Python [conda env:base] *",
   "language": "python",
   "name": "conda-base-py"
  },
  "language_info": {
   "codemirror_mode": {
    "name": "ipython",
    "version": 3
   },
   "file_extension": ".py",
   "mimetype": "text/x-python",
   "name": "python",
   "nbconvert_exporter": "python",
   "pygments_lexer": "ipython3",
   "version": "3.12.7"
  }
 },
 "nbformat": 4,
 "nbformat_minor": 4
}
